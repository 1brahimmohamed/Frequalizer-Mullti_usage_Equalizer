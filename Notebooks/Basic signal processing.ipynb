{
 "cells": [
  {
   "cell_type": "code",
   "execution_count": 2,
   "id": "fb676cdd",
   "metadata": {
    "pycharm": {
     "name": "#%%\n"
    }
   },
   "outputs": [],
   "source": [
    "import librosa \n",
    "import librosa.display as dsp\n",
    "import soundfile as sf\n",
    "import numpy as np\n",
    "import scipy\n",
    "from scipy.fft import fft, fftfreq\n",
    "import matplotlib.pyplot as plt \n",
    "import plotly\n",
    "import plotly.graph_objs as go\n",
    "from IPython.display import Audio as audioPlayer"
   ]
  },
  {
   "cell_type": "code",
   "execution_count": 3,
   "id": "0362bfb5",
   "metadata": {
    "pycharm": {
     "name": "#%%\n"
    }
   },
   "outputs": [],
   "source": [
    "#functions for plotting in time and freq domain\n",
    "def plotFourierMag(song_mag_data):\n",
    "    time = np.arange(0,len(song))/sr\n",
    "    fig, ax = plt.subplots()\n",
    "    ax.plot(song_frequency,song_mag_data)\n",
    "    ax.set(xlabel='Time(s)',ylabel='sound amplitude')\n",
    "    plt.show()\n",
    "def plotInTime():\n",
    "    time = np.arange(0,len(song))/sr\n",
    "    fig, ax = plt.subplots()\n",
    "    ax.plot(time,song)\n",
    "    ax.set(xlabel='Time(s)',ylabel='sound amplitude')\n",
    "    plt.show()\n",
    "def plotWhatever(y):\n",
    "    x_axis = np.arange(0,y.size)\n",
    "    fig, ax = plt.subplots()\n",
    "    ax.plot(x_axis,y)\n",
    "    ax.set(xlabel='X',ylabel='Y')\n",
    "    plt.show()"
   ]
  },
  {
   "cell_type": "code",
   "execution_count": 4,
   "id": "18bd8e41",
   "metadata": {
    "scrolled": true,
    "pycharm": {
     "name": "#%%\n"
    }
   },
   "outputs": [
    {
     "name": "stderr",
     "output_type": "stream",
     "text": [
      "C:\\Users\\I1bra\\anaconda3\\lib\\site-packages\\librosa\\util\\decorators.py:88: UserWarning: PySoundFile failed. Trying audioread instead.\n",
      "  return f(*args, **kwargs)\n"
     ]
    },
    {
     "ename": "FileNotFoundError",
     "evalue": "[Errno 2] No such file or directory: 'antonio_vivaldi_4seasons_winter.wav'",
     "output_type": "error",
     "traceback": [
      "\u001B[1;31m---------------------------------------------------------------------------\u001B[0m",
      "\u001B[1;31mLibsndfileError\u001B[0m                           Traceback (most recent call last)",
      "File \u001B[1;32m~\\anaconda3\\lib\\site-packages\\librosa\\core\\audio.py:164\u001B[0m, in \u001B[0;36mload\u001B[1;34m(path, sr, mono, offset, duration, dtype, res_type)\u001B[0m\n\u001B[0;32m    163\u001B[0m \u001B[38;5;28;01mtry\u001B[39;00m:\n\u001B[1;32m--> 164\u001B[0m     y, sr_native \u001B[38;5;241m=\u001B[39m \u001B[43m__soundfile_load\u001B[49m\u001B[43m(\u001B[49m\u001B[43mpath\u001B[49m\u001B[43m,\u001B[49m\u001B[43m \u001B[49m\u001B[43moffset\u001B[49m\u001B[43m,\u001B[49m\u001B[43m \u001B[49m\u001B[43mduration\u001B[49m\u001B[43m,\u001B[49m\u001B[43m \u001B[49m\u001B[43mdtype\u001B[49m\u001B[43m)\u001B[49m\n\u001B[0;32m    166\u001B[0m \u001B[38;5;28;01mexcept\u001B[39;00m \u001B[38;5;167;01mRuntimeError\u001B[39;00m \u001B[38;5;28;01mas\u001B[39;00m exc:\n\u001B[0;32m    167\u001B[0m     \u001B[38;5;66;03m# If soundfile failed, try audioread instead\u001B[39;00m\n",
      "File \u001B[1;32m~\\anaconda3\\lib\\site-packages\\librosa\\core\\audio.py:195\u001B[0m, in \u001B[0;36m__soundfile_load\u001B[1;34m(path, offset, duration, dtype)\u001B[0m\n\u001B[0;32m    193\u001B[0m \u001B[38;5;28;01melse\u001B[39;00m:\n\u001B[0;32m    194\u001B[0m     \u001B[38;5;66;03m# Otherwise, create the soundfile object\u001B[39;00m\n\u001B[1;32m--> 195\u001B[0m     context \u001B[38;5;241m=\u001B[39m \u001B[43msf\u001B[49m\u001B[38;5;241;43m.\u001B[39;49m\u001B[43mSoundFile\u001B[49m\u001B[43m(\u001B[49m\u001B[43mpath\u001B[49m\u001B[43m)\u001B[49m\n\u001B[0;32m    197\u001B[0m \u001B[38;5;28;01mwith\u001B[39;00m context \u001B[38;5;28;01mas\u001B[39;00m sf_desc:\n",
      "File \u001B[1;32m~\\anaconda3\\lib\\site-packages\\soundfile.py:655\u001B[0m, in \u001B[0;36mSoundFile.__init__\u001B[1;34m(self, file, mode, samplerate, channels, subtype, endian, format, closefd)\u001B[0m\n\u001B[0;32m    653\u001B[0m \u001B[38;5;28mself\u001B[39m\u001B[38;5;241m.\u001B[39m_info \u001B[38;5;241m=\u001B[39m _create_info_struct(file, mode, samplerate, channels,\n\u001B[0;32m    654\u001B[0m                                  \u001B[38;5;28mformat\u001B[39m, subtype, endian)\n\u001B[1;32m--> 655\u001B[0m \u001B[38;5;28mself\u001B[39m\u001B[38;5;241m.\u001B[39m_file \u001B[38;5;241m=\u001B[39m \u001B[38;5;28;43mself\u001B[39;49m\u001B[38;5;241;43m.\u001B[39;49m\u001B[43m_open\u001B[49m\u001B[43m(\u001B[49m\u001B[43mfile\u001B[49m\u001B[43m,\u001B[49m\u001B[43m \u001B[49m\u001B[43mmode_int\u001B[49m\u001B[43m,\u001B[49m\u001B[43m \u001B[49m\u001B[43mclosefd\u001B[49m\u001B[43m)\u001B[49m\n\u001B[0;32m    656\u001B[0m \u001B[38;5;28;01mif\u001B[39;00m \u001B[38;5;28mset\u001B[39m(mode)\u001B[38;5;241m.\u001B[39missuperset(\u001B[38;5;124m'\u001B[39m\u001B[38;5;124mr+\u001B[39m\u001B[38;5;124m'\u001B[39m) \u001B[38;5;129;01mand\u001B[39;00m \u001B[38;5;28mself\u001B[39m\u001B[38;5;241m.\u001B[39mseekable():\n\u001B[0;32m    657\u001B[0m     \u001B[38;5;66;03m# Move write position to 0 (like in Python file objects)\u001B[39;00m\n",
      "File \u001B[1;32m~\\anaconda3\\lib\\site-packages\\soundfile.py:1213\u001B[0m, in \u001B[0;36mSoundFile._open\u001B[1;34m(self, file, mode_int, closefd)\u001B[0m\n\u001B[0;32m   1212\u001B[0m     err \u001B[38;5;241m=\u001B[39m _snd\u001B[38;5;241m.\u001B[39msf_error(file_ptr)\n\u001B[1;32m-> 1213\u001B[0m     \u001B[38;5;28;01mraise\u001B[39;00m LibsndfileError(err, prefix\u001B[38;5;241m=\u001B[39m\u001B[38;5;124m\"\u001B[39m\u001B[38;5;124mError opening \u001B[39m\u001B[38;5;132;01m{0!r}\u001B[39;00m\u001B[38;5;124m: \u001B[39m\u001B[38;5;124m\"\u001B[39m\u001B[38;5;241m.\u001B[39mformat(\u001B[38;5;28mself\u001B[39m\u001B[38;5;241m.\u001B[39mname))\n\u001B[0;32m   1214\u001B[0m \u001B[38;5;28;01mif\u001B[39;00m mode_int \u001B[38;5;241m==\u001B[39m _snd\u001B[38;5;241m.\u001B[39mSFM_WRITE:\n\u001B[0;32m   1215\u001B[0m     \u001B[38;5;66;03m# Due to a bug in libsndfile version <= 1.0.25, frames != 0\u001B[39;00m\n\u001B[0;32m   1216\u001B[0m     \u001B[38;5;66;03m# when opening a named pipe in SFM_WRITE mode.\u001B[39;00m\n\u001B[0;32m   1217\u001B[0m     \u001B[38;5;66;03m# See http://github.com/erikd/libsndfile/issues/77.\u001B[39;00m\n",
      "\u001B[1;31mLibsndfileError\u001B[0m: Error opening 'antonio_vivaldi_4seasons_winter.wav': System error.",
      "\nDuring handling of the above exception, another exception occurred:\n",
      "\u001B[1;31mFileNotFoundError\u001B[0m                         Traceback (most recent call last)",
      "Input \u001B[1;32mIn [4]\u001B[0m, in \u001B[0;36m<cell line: 1>\u001B[1;34m()\u001B[0m\n\u001B[1;32m----> 1\u001B[0m song, sr \u001B[38;5;241m=\u001B[39m \u001B[43mlibrosa\u001B[49m\u001B[38;5;241;43m.\u001B[39;49m\u001B[43mload\u001B[49m\u001B[43m(\u001B[49m\u001B[38;5;124;43m\"\u001B[39;49m\u001B[38;5;124;43mantonio_vivaldi_4seasons_winter.wav\u001B[39;49m\u001B[38;5;124;43m\"\u001B[39;49m\u001B[43m,\u001B[49m\u001B[43moffset\u001B[49m\u001B[38;5;241;43m=\u001B[39;49m\u001B[38;5;241;43m35.0\u001B[39;49m\u001B[43m,\u001B[49m\u001B[43mduration\u001B[49m\u001B[38;5;241;43m=\u001B[39;49m\u001B[38;5;241;43m20.0\u001B[39;49m\u001B[43m)\u001B[49m\n\u001B[0;32m      2\u001B[0m \u001B[38;5;66;03m# song, sr = librosa.load(\"fallout nv_Slow Sax.wav\",offset=1.0 ,duration=20.0)\u001B[39;00m\n\u001B[0;32m      3\u001B[0m \u001B[38;5;28mprint\u001B[39m(song)\n",
      "File \u001B[1;32m~\\anaconda3\\lib\\site-packages\\librosa\\util\\decorators.py:88\u001B[0m, in \u001B[0;36mdeprecate_positional_args.<locals>._inner_deprecate_positional_args.<locals>.inner_f\u001B[1;34m(*args, **kwargs)\u001B[0m\n\u001B[0;32m     86\u001B[0m extra_args \u001B[38;5;241m=\u001B[39m \u001B[38;5;28mlen\u001B[39m(args) \u001B[38;5;241m-\u001B[39m \u001B[38;5;28mlen\u001B[39m(all_args)\n\u001B[0;32m     87\u001B[0m \u001B[38;5;28;01mif\u001B[39;00m extra_args \u001B[38;5;241m<\u001B[39m\u001B[38;5;241m=\u001B[39m \u001B[38;5;241m0\u001B[39m:\n\u001B[1;32m---> 88\u001B[0m     \u001B[38;5;28;01mreturn\u001B[39;00m f(\u001B[38;5;241m*\u001B[39margs, \u001B[38;5;241m*\u001B[39m\u001B[38;5;241m*\u001B[39mkwargs)\n\u001B[0;32m     90\u001B[0m \u001B[38;5;66;03m# extra_args > 0\u001B[39;00m\n\u001B[0;32m     91\u001B[0m args_msg \u001B[38;5;241m=\u001B[39m [\n\u001B[0;32m     92\u001B[0m     \u001B[38;5;124m\"\u001B[39m\u001B[38;5;132;01m{}\u001B[39;00m\u001B[38;5;124m=\u001B[39m\u001B[38;5;132;01m{}\u001B[39;00m\u001B[38;5;124m\"\u001B[39m\u001B[38;5;241m.\u001B[39mformat(name, arg)\n\u001B[0;32m     93\u001B[0m     \u001B[38;5;28;01mfor\u001B[39;00m name, arg \u001B[38;5;129;01min\u001B[39;00m \u001B[38;5;28mzip\u001B[39m(kwonly_args[:extra_args], args[\u001B[38;5;241m-\u001B[39mextra_args:])\n\u001B[0;32m     94\u001B[0m ]\n",
      "File \u001B[1;32m~\\anaconda3\\lib\\site-packages\\librosa\\core\\audio.py:170\u001B[0m, in \u001B[0;36mload\u001B[1;34m(path, sr, mono, offset, duration, dtype, res_type)\u001B[0m\n\u001B[0;32m    168\u001B[0m \u001B[38;5;28;01mif\u001B[39;00m \u001B[38;5;28misinstance\u001B[39m(path, (\u001B[38;5;28mstr\u001B[39m, pathlib\u001B[38;5;241m.\u001B[39mPurePath)):\n\u001B[0;32m    169\u001B[0m     warnings\u001B[38;5;241m.\u001B[39mwarn(\u001B[38;5;124m\"\u001B[39m\u001B[38;5;124mPySoundFile failed. Trying audioread instead.\u001B[39m\u001B[38;5;124m\"\u001B[39m, stacklevel\u001B[38;5;241m=\u001B[39m\u001B[38;5;241m2\u001B[39m)\n\u001B[1;32m--> 170\u001B[0m     y, sr_native \u001B[38;5;241m=\u001B[39m \u001B[43m__audioread_load\u001B[49m\u001B[43m(\u001B[49m\u001B[43mpath\u001B[49m\u001B[43m,\u001B[49m\u001B[43m \u001B[49m\u001B[43moffset\u001B[49m\u001B[43m,\u001B[49m\u001B[43m \u001B[49m\u001B[43mduration\u001B[49m\u001B[43m,\u001B[49m\u001B[43m \u001B[49m\u001B[43mdtype\u001B[49m\u001B[43m)\u001B[49m\n\u001B[0;32m    171\u001B[0m \u001B[38;5;28;01melse\u001B[39;00m:\n\u001B[0;32m    172\u001B[0m     \u001B[38;5;28;01mraise\u001B[39;00m exc\n",
      "File \u001B[1;32m~\\anaconda3\\lib\\site-packages\\librosa\\core\\audio.py:226\u001B[0m, in \u001B[0;36m__audioread_load\u001B[1;34m(path, offset, duration, dtype)\u001B[0m\n\u001B[0;32m    223\u001B[0m     reader \u001B[38;5;241m=\u001B[39m path\n\u001B[0;32m    224\u001B[0m \u001B[38;5;28;01melse\u001B[39;00m:\n\u001B[0;32m    225\u001B[0m     \u001B[38;5;66;03m# If the input was not an audioread object, try to open it\u001B[39;00m\n\u001B[1;32m--> 226\u001B[0m     reader \u001B[38;5;241m=\u001B[39m \u001B[43maudioread\u001B[49m\u001B[38;5;241;43m.\u001B[39;49m\u001B[43maudio_open\u001B[49m\u001B[43m(\u001B[49m\u001B[43mpath\u001B[49m\u001B[43m)\u001B[49m\n\u001B[0;32m    228\u001B[0m \u001B[38;5;28;01mwith\u001B[39;00m reader \u001B[38;5;28;01mas\u001B[39;00m input_file:\n\u001B[0;32m    229\u001B[0m     sr_native \u001B[38;5;241m=\u001B[39m input_file\u001B[38;5;241m.\u001B[39msamplerate\n",
      "File \u001B[1;32m~\\anaconda3\\lib\\site-packages\\audioread\\__init__.py:127\u001B[0m, in \u001B[0;36maudio_open\u001B[1;34m(path, backends)\u001B[0m\n\u001B[0;32m    125\u001B[0m \u001B[38;5;28;01mfor\u001B[39;00m BackendClass \u001B[38;5;129;01min\u001B[39;00m backends:\n\u001B[0;32m    126\u001B[0m     \u001B[38;5;28;01mtry\u001B[39;00m:\n\u001B[1;32m--> 127\u001B[0m         \u001B[38;5;28;01mreturn\u001B[39;00m \u001B[43mBackendClass\u001B[49m\u001B[43m(\u001B[49m\u001B[43mpath\u001B[49m\u001B[43m)\u001B[49m\n\u001B[0;32m    128\u001B[0m     \u001B[38;5;28;01mexcept\u001B[39;00m DecodeError:\n\u001B[0;32m    129\u001B[0m         \u001B[38;5;28;01mpass\u001B[39;00m\n",
      "File \u001B[1;32m~\\anaconda3\\lib\\site-packages\\audioread\\rawread.py:59\u001B[0m, in \u001B[0;36mRawAudioFile.__init__\u001B[1;34m(self, filename)\u001B[0m\n\u001B[0;32m     58\u001B[0m \u001B[38;5;28;01mdef\u001B[39;00m \u001B[38;5;21m__init__\u001B[39m(\u001B[38;5;28mself\u001B[39m, filename):\n\u001B[1;32m---> 59\u001B[0m     \u001B[38;5;28mself\u001B[39m\u001B[38;5;241m.\u001B[39m_fh \u001B[38;5;241m=\u001B[39m \u001B[38;5;28;43mopen\u001B[39;49m\u001B[43m(\u001B[49m\u001B[43mfilename\u001B[49m\u001B[43m,\u001B[49m\u001B[43m \u001B[49m\u001B[38;5;124;43m'\u001B[39;49m\u001B[38;5;124;43mrb\u001B[39;49m\u001B[38;5;124;43m'\u001B[39;49m\u001B[43m)\u001B[49m\n\u001B[0;32m     61\u001B[0m     \u001B[38;5;28;01mtry\u001B[39;00m:\n\u001B[0;32m     62\u001B[0m         \u001B[38;5;28mself\u001B[39m\u001B[38;5;241m.\u001B[39m_file \u001B[38;5;241m=\u001B[39m aifc\u001B[38;5;241m.\u001B[39mopen(\u001B[38;5;28mself\u001B[39m\u001B[38;5;241m.\u001B[39m_fh)\n",
      "\u001B[1;31mFileNotFoundError\u001B[0m: [Errno 2] No such file or directory: 'antonio_vivaldi_4seasons_winter.wav'"
     ]
    }
   ],
   "source": [
    "song, sr = librosa.load(\"antonio_vivaldi_4seasons_winter.wav\",offset=35.0,duration=20.0)\n",
    "# song, sr = librosa.load(\"fallout nv_Slow Sax.wav\",offset=1.0 ,duration=20.0)\n",
    "print(song)"
   ]
  },
  {
   "cell_type": "code",
   "execution_count": null,
   "id": "b112b00e",
   "metadata": {
    "pycharm": {
     "name": "#%%\n"
    }
   },
   "outputs": [],
   "source": [
    "audioPlayer(data=song, rate=sr, autoplay=False)\n",
    "# audioPlayer(\"antonio_vivaldi_4seasons_winter.wav\", autoplay=True)"
   ]
  },
  {
   "cell_type": "code",
   "execution_count": null,
   "id": "b01255b8",
   "metadata": {
    "scrolled": true,
    "pycharm": {
     "name": "#%%\n"
    }
   },
   "outputs": [],
   "source": [
    "# decompose the signal using rfft\n",
    "def fourier_function(song):\n",
    "    complex_fft = scipy.fft.rfft(song)\n",
    "    magnitude = np.abs(complex_fft)\n",
    "    phase = np.angle(complex_fft)\n",
    "    frequency = scipy.fft.rfftfreq(len(song), 1 / sr)\n",
    "    return magnitude, phase, frequency\n",
    "\n",
    "song_magnitude, song_phase, song_frequency=fourier_function(song)\n",
    "print(song_frequency.shape)"
   ]
  },
  {
   "cell_type": "code",
   "execution_count": null,
   "id": "5a1bd2f2",
   "metadata": {
    "pycharm": {
     "name": "#%%\n"
    }
   },
   "outputs": [],
   "source": [
    "plotFourierMag(song_magnitude)"
   ]
  },
  {
   "cell_type": "code",
   "execution_count": null,
   "id": "6c8972bb",
   "metadata": {
    "pycharm": {
     "name": "#%%\n"
    }
   },
   "outputs": [],
   "source": [
    "slider1_ranges= [[200,1500],[50,100]]\n",
    "viola = [[1500,3500]]\n",
    "bass = [[50,150]]\n",
    "#Take a copy of the magnitude list, then do operations\n",
    "new_mag = song_magnitude.copy()\n",
    "def equalizerRange_Window(magnitude,frequency,slider_ranges,slider_dB): \n",
    "    #manipulate mag over a specific range\n",
    "    for rng in slider_ranges:\n",
    "        # adjust magnitude of range in list      \n",
    "        target_freq= list(np.where((frequency>rng[0])&(frequency<rng[1]))[0])\n",
    "        for i in target_freq:\n",
    "            new_mag[i]=song_magnitude[i]*10**(slider_dB)\n",
    "        print(rng[0])"
   ]
  },
  {
   "cell_type": "code",
   "execution_count": null,
   "id": "e9a046e6",
   "metadata": {
    "pycharm": {
     "name": "#%%\n"
    }
   },
   "outputs": [],
   "source": [
    "#Take a copy of the magnitude list, then do operations\n",
    "new_mag = song_magnitude.copy()\n",
    "# function that uses triangle window to manipulate data, still not done\n",
    "def equalizerRange_Triangle(magnitude,frequency,slider_ranges,slider_dB): \n",
    "    #manipulate mag over a specific range\n",
    "    for rng in slider_ranges:\n",
    "        # adjust magnitude of range in list      \n",
    "        target_freq= list(np.where((frequency>rng[0])&(frequency<rng[1]))[0])\n",
    "        #generate a trianglular window\n",
    "        triangle_window=10**((slider_dB)*scipy.signal.windows.triang(len(target_freq)))\n",
    "        #triangle_window=slider_dB*scipy.signal.windows.triang(len(target_freq))\n",
    "        for i,window in zip(target_freq,triangle_window):\n",
    "            new_mag[i]=song_magnitude[i]*window\n",
    "        print(rng[0])"
   ]
  },
  {
   "cell_type": "code",
   "execution_count": null,
   "id": "4fb311f8",
   "metadata": {
    "pycharm": {
     "name": "#%%\n"
    }
   },
   "outputs": [],
   "source": [
    "# inverse reconstruction of signal ==> y[frequency]= (magnitude*(e^(phase)))\n",
    "def calc_inv_fourier(mag, phase):\n",
    "    New_signal = np.multiply(mag, np.exp(1j * phase))\n",
    "    inv_fourier_signal = np.real(scipy.fft.irfft(New_signal))\n",
    "    #inv_fourier_signal = inv_fourier_signal.astype(np.int16) #commented cuz it breaks the function, dunno why\n",
    "    return inv_fourier_signal \n"
   ]
  },
  {
   "cell_type": "code",
   "execution_count": null,
   "id": "19a22f19",
   "metadata": {
    "pycharm": {
     "name": "#%%\n"
    }
   },
   "outputs": [],
   "source": [
    "# function calls for adjusting the curve according to the value and range list of each slider\n",
    "equalizerRange_Triangle(song_magnitude,song_frequency,viola,1.5)\n",
    "equalizerRange_Triangle(song_magnitude,song_frequency,bass,1.5)\n",
    "# equalizerRange_Window(song_magnitude,song_frequency,viola,2)\n",
    "# equalizerRange_Window(song_magnitude,song_frequency,bass,1.5)\n",
    "\n",
    "plotFourierMag(new_mag)\n",
    "song_edited = calc_inv_fourier(new_mag, song_phase)\n"
   ]
  },
  {
   "cell_type": "code",
   "execution_count": null,
   "id": "745af580",
   "metadata": {
    "scrolled": true,
    "pycharm": {
     "name": "#%%\n"
    }
   },
   "outputs": [],
   "source": [
    "# audioPlayer(data=y_harmonic, rate=sr, autoplay=True)\n",
    "# play the edited data\n",
    "audioPlayer(data=song_edited, rate=sr, autoplay=False)"
   ]
  },
  {
   "cell_type": "code",
   "execution_count": null,
   "id": "651ac872",
   "metadata": {
    "pycharm": {
     "name": "#%%\n"
    }
   },
   "outputs": [],
   "source": [
    "# for writing the song \n",
    "sf.write('after.wav', song_edited, sr)"
   ]
  },
  {
   "cell_type": "code",
   "execution_count": null,
   "id": "0d443b69",
   "metadata": {
    "pycharm": {
     "name": "#%%\n"
    }
   },
   "outputs": [],
   "source": [
    "# extract the percussive component\n",
    "y_percussive = librosa.effects.percussive(song, margin=5)\n",
    "y_harmonic = librosa.effects.harmonic(song, margin=5)"
   ]
  },
  {
   "cell_type": "code",
   "execution_count": null,
   "id": "88818b32",
   "metadata": {
    "pycharm": {
     "name": "#%%\n"
    }
   },
   "outputs": [],
   "source": [
    "# drawing a spectrogram\n",
    "# d = librosa.stft(y_percussive)\n",
    "# D = librosa.amplitude_to_db(np.abs(d),ref=np.max)\n",
    "# fig,ax = plt.subplots(2,1,sharex=True,figsize=(10,10))\n",
    "# img = dsp.specshow(D, y_axis='linear', x_axis='s',sr=sr,ax=ax[0])\n",
    "# ax[0].set(title='Linear frequency power spectrogram')\n",
    "# ax[0].label_outer()\n",
    "# dsp.specshow(D,y_axis='log',x_axis='s',sr=sr,ax=ax[1])\n",
    "# ax[1].set(title='Log frequency power spectrogram')\n",
    "# ax[1].label_outer()\n",
    "# fig.colorbar(img, ax=ax, format='%+2.f dB')"
   ]
  },
  {
   "cell_type": "code",
   "execution_count": null,
   "id": "1e2ddb0d",
   "metadata": {
    "scrolled": true,
    "pycharm": {
     "name": "#%%\n"
    }
   },
   "outputs": [],
   "source": [
    "# Bin separation and operations\n",
    "# 125 Hz–1KHz freq range for violins\n",
    "# 260 Hz–3.5KHz for celeste\n",
    "# slider_ranges= [[[200,1500],[1500,3500]]]\n",
    "\n",
    "# def equalizer(magnitude,frequency,sliders_value): \n",
    "# # iterate on slider values \n",
    "#     for itr in sliders_value:\n",
    "#         #for each slider, iterate on the ranges\n",
    "#         for comp in slider_ranges:\n",
    "#             #for each range (which is a list)\n",
    "#             for rng in comp:\n",
    "#                 # adjust magnitude of range in list      \n",
    "#                 target_freq= list(np.where((frequency>rng[0])&(frequency<rng[1]))[0])\n",
    "#                 for i in target_freq:\n",
    "#                     song_magnitude[i]=song_magnitude[i]*10**(itr)                \n",
    "# equalizer(song_magnitude,song_frequency,[0,0,0])"
   ]
  },
  {
   "cell_type": "code",
   "execution_count": null,
   "id": "3a9ec4fb",
   "metadata": {
    "pycharm": {
     "name": "#%%\n"
    }
   },
   "outputs": [],
   "source": [
    "# generating a trianglular window\n",
    "# triangle_window=(10**(slider_dB))*scipy.signal.windows.triang(len(target_freq))\n",
    "triangle_window=10*scipy.signal.windows.triang(100)\n",
    "plotWhatever(triangle_window)\n",
    "print(triangle_window)\n",
    "# for i in triangle_window:\n",
    "#     print(i)"
   ]
  },
  {
   "cell_type": "code",
   "execution_count": null,
   "id": "7ecf5a5f",
   "metadata": {
    "pycharm": {
     "name": "#%%\n"
    }
   },
   "outputs": [],
   "source": [
    "print(\"you got this\")"
   ]
  },
  {
   "cell_type": "code",
   "execution_count": null,
   "id": "1f484ee3",
   "metadata": {
    "pycharm": {
     "name": "#%%\n"
    }
   },
   "outputs": [],
   "source": [
    "# plotting part with plotly, abit slow\n",
    "# xpoints = np.arange(0, song.size, 1)\n",
    "# ypoints = song\n",
    "# trace0 = go.Scatter(\n",
    "#    x = xpoints, y = ypoints\n",
    "# )\n",
    "# data = [trace0]\n",
    "# plotly.offline.iplot({ \"data\": data,\"layout\": go.Layout(title=\"Sine wave\")})"
   ]
  }
 ],
 "metadata": {
  "kernelspec": {
   "display_name": "Python 3 (ipykernel)",
   "language": "python",
   "name": "python3"
  },
  "language_info": {
   "codemirror_mode": {
    "name": "ipython",
    "version": 3
   },
   "file_extension": ".py",
   "mimetype": "text/x-python",
   "name": "python",
   "nbconvert_exporter": "python",
   "pygments_lexer": "ipython3",
   "version": "3.9.10"
  }
 },
 "nbformat": 4,
 "nbformat_minor": 5
}